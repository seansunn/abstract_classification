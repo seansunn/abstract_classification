{
  "nbformat": 4,
  "nbformat_minor": 0,
  "metadata": {
    "colab": {
      "provenance": []
    },
    "kernelspec": {
      "name": "python3",
      "display_name": "Python 3"
    },
    "language_info": {
      "name": "python"
    },
    "gpuClass": "standard",
    "accelerator": "GPU"
  },
  "cells": [
    {
      "cell_type": "markdown",
      "source": [
        "# Abstract Classification Model with GRU"
      ],
      "metadata": {
        "id": "oMtx01t4ZfKh"
      }
    },
    {
      "cell_type": "markdown",
      "source": [
        "#0. Install and import packages"
      ],
      "metadata": {
        "id": "dKwPSOak71NI"
      }
    },
    {
      "cell_type": "code",
      "source": [
        "!pip install gensim==4.2.0\n"
      ],
      "metadata": {
        "colab": {
          "base_uri": "https://localhost:8080/"
        },
        "id": "0nYJQNEfzAxM",
        "outputId": "89ccb4c7-3624-435d-bb6e-2693abef70c6"
      },
      "execution_count": null,
      "outputs": [
        {
          "output_type": "stream",
          "name": "stdout",
          "text": [
            "Looking in indexes: https://pypi.org/simple, https://us-python.pkg.dev/colab-wheels/public/simple/\n",
            "Requirement already satisfied: gensim==4.2.0 in /usr/local/lib/python3.8/dist-packages (4.2.0)\n",
            "Requirement already satisfied: numpy>=1.17.0 in /usr/local/lib/python3.8/dist-packages (from gensim==4.2.0) (1.21.6)\n",
            "Requirement already satisfied: scipy>=0.18.1 in /usr/local/lib/python3.8/dist-packages (from gensim==4.2.0) (1.7.3)\n",
            "Requirement already satisfied: smart-open>=1.8.1 in /usr/local/lib/python3.8/dist-packages (from gensim==4.2.0) (6.3.0)\n"
          ]
        }
      ]
    },
    {
      "cell_type": "code",
      "source": [
        "import os.path\n",
        "import time\n",
        "import random\n",
        "import pandas as pd\n",
        "import matplotlib.pyplot as plt\n",
        "import numpy as np\n",
        "from sklearn.utils import shuffle\n",
        "import torch\n",
        "from torch import nn\n",
        "from torch.nn import functional as F\n",
        "from torch.nn.utils.rnn import pack_padded_sequence, pad_packed_sequence\n",
        "import nltk\n",
        "from nltk.corpus import brown, stopwords\n",
        "from gensim.models import Word2Vec, KeyedVectors, fasttext\n",
        "from tqdm import tqdm\n",
        "\n",
        "\n",
        "# use gpu if possible\n",
        "device = \"cuda\" if torch.cuda.is_available() else \"cpu\"\n",
        "nltk.download('stopwords')\n"
      ],
      "metadata": {
        "id": "V5v5s_MaqhKO",
        "colab": {
          "base_uri": "https://localhost:8080/"
        },
        "outputId": "cae803b5-eaff-4e59-9595-b5010a04dbe6"
      },
      "execution_count": null,
      "outputs": [
        {
          "output_type": "stream",
          "name": "stderr",
          "text": [
            "[nltk_data] Downloading package stopwords to /root/nltk_data...\n",
            "[nltk_data]   Package stopwords is already up-to-date!\n"
          ]
        },
        {
          "output_type": "execute_result",
          "data": {
            "text/plain": [
              "True"
            ]
          },
          "metadata": {},
          "execution_count": 3
        }
      ]
    },
    {
      "cell_type": "markdown",
      "source": [
        "# 1. Load embedding\n",
        "\n",
        "Load the embedding by using Gensim. Examine the shape of the vectors."
      ],
      "metadata": {
        "id": "JHUmIPIU8D8O"
      }
    },
    {
      "cell_type": "code",
      "source": [
        "def load_fasttext(file_path):\n",
        "    ft_model = fasttext.load_facebook_vectors(\n",
        "        file_path + 'embeddings/cc.en.100.bin') \n",
        "    return ft_model\n",
        "\n",
        "\n",
        "def load_glove(file_path):\n",
        "    word2vec_model = KeyedVectors.load_word2vec_format(\n",
        "        file_path + 'embeddings/glove.6B.50d.txt',\n",
        "        binary=False,\n",
        "        unicode_errors='ignore',\n",
        "        encoding='utf-8')\n",
        "    return word2vec_model\n",
        "\n",
        "\n",
        "def load_google(file_path):\n",
        "    google_model = KeyedVectors.load(\n",
        "        file_path + 'embeddings/word2vec-google-news-300.model')\n",
        "    return google_model\n",
        "\n",
        "\n",
        "w2v = load_google(folder_path)\n"
      ],
      "metadata": {
        "id": "6GZ13r5S_nwT"
      },
      "execution_count": null,
      "outputs": []
    },
    {
      "cell_type": "code",
      "source": [
        "# check dimension and length\n",
        "embedding_dim = len(w2v.vectors[0])\n",
        "embedding_dim, len(w2v)\n"
      ],
      "metadata": {
        "colab": {
          "base_uri": "https://localhost:8080/"
        },
        "id": "A5EXdNUXQb0T",
        "outputId": "4ebfac64-1474-4d71-e26c-a7dcb0bf4515"
      },
      "execution_count": null,
      "outputs": [
        {
          "output_type": "execute_result",
          "data": {
            "text/plain": [
              "(300, 3000000)"
            ]
          },
          "metadata": {},
          "execution_count": 5
        }
      ]
    },
    {
      "cell_type": "markdown",
      "source": [
        "# 2. Data exploration and preprocessing"
      ],
      "metadata": {
        "id": "p1xYQBZ29tkK"
      }
    },
    {
      "cell_type": "code",
      "source": [
        "# load csv using pandas\n",
        "# ignore the 'path' column\n",
        "df = pd.read_csv(folder_path + 'mesh.csv', usecols=['label', 'Text'])\n",
        "df.head()\n"
      ],
      "metadata": {
        "colab": {
          "base_uri": "https://localhost:8080/",
          "height": 206
        },
        "id": "lxrXbTKCq1Wr",
        "outputId": "5000faab-7ed9-4c9b-a724-0ab7186fd282"
      },
      "execution_count": null,
      "outputs": [
        {
          "output_type": "execute_result",
          "data": {
            "text/plain": [
              "                   label                                               Text\n",
              "0  Conjunctival Diseases  a white north american girl with clinical feat...\n",
              "1  Conjunctival Diseases  sixteen patients with an unusual and distinct ...\n",
              "2  Conjunctival Diseases  a molluscum contagiosum nodule, situated at th...\n",
              "3  Conjunctival Diseases  a white male infant of 1 year had unilateral m...\n",
              "4  Conjunctival Diseases  a case of primary meningococcal conjunctivitis..."
            ],
            "text/html": [
              "\n",
              "  <div id=\"df-f5c7302e-d19e-4507-bba8-fc49842e78f0\">\n",
              "    <div class=\"colab-df-container\">\n",
              "      <div>\n",
              "<style scoped>\n",
              "    .dataframe tbody tr th:only-of-type {\n",
              "        vertical-align: middle;\n",
              "    }\n",
              "\n",
              "    .dataframe tbody tr th {\n",
              "        vertical-align: top;\n",
              "    }\n",
              "\n",
              "    .dataframe thead th {\n",
              "        text-align: right;\n",
              "    }\n",
              "</style>\n",
              "<table border=\"1\" class=\"dataframe\">\n",
              "  <thead>\n",
              "    <tr style=\"text-align: right;\">\n",
              "      <th></th>\n",
              "      <th>label</th>\n",
              "      <th>Text</th>\n",
              "    </tr>\n",
              "  </thead>\n",
              "  <tbody>\n",
              "    <tr>\n",
              "      <th>0</th>\n",
              "      <td>Conjunctival Diseases</td>\n",
              "      <td>a white north american girl with clinical feat...</td>\n",
              "    </tr>\n",
              "    <tr>\n",
              "      <th>1</th>\n",
              "      <td>Conjunctival Diseases</td>\n",
              "      <td>sixteen patients with an unusual and distinct ...</td>\n",
              "    </tr>\n",
              "    <tr>\n",
              "      <th>2</th>\n",
              "      <td>Conjunctival Diseases</td>\n",
              "      <td>a molluscum contagiosum nodule, situated at th...</td>\n",
              "    </tr>\n",
              "    <tr>\n",
              "      <th>3</th>\n",
              "      <td>Conjunctival Diseases</td>\n",
              "      <td>a white male infant of 1 year had unilateral m...</td>\n",
              "    </tr>\n",
              "    <tr>\n",
              "      <th>4</th>\n",
              "      <td>Conjunctival Diseases</td>\n",
              "      <td>a case of primary meningococcal conjunctivitis...</td>\n",
              "    </tr>\n",
              "  </tbody>\n",
              "</table>\n",
              "</div>\n",
              "      <button class=\"colab-df-convert\" onclick=\"convertToInteractive('df-f5c7302e-d19e-4507-bba8-fc49842e78f0')\"\n",
              "              title=\"Convert this dataframe to an interactive table.\"\n",
              "              style=\"display:none;\">\n",
              "        \n",
              "  <svg xmlns=\"http://www.w3.org/2000/svg\" height=\"24px\"viewBox=\"0 0 24 24\"\n",
              "       width=\"24px\">\n",
              "    <path d=\"M0 0h24v24H0V0z\" fill=\"none\"/>\n",
              "    <path d=\"M18.56 5.44l.94 2.06.94-2.06 2.06-.94-2.06-.94-.94-2.06-.94 2.06-2.06.94zm-11 1L8.5 8.5l.94-2.06 2.06-.94-2.06-.94L8.5 2.5l-.94 2.06-2.06.94zm10 10l.94 2.06.94-2.06 2.06-.94-2.06-.94-.94-2.06-.94 2.06-2.06.94z\"/><path d=\"M17.41 7.96l-1.37-1.37c-.4-.4-.92-.59-1.43-.59-.52 0-1.04.2-1.43.59L10.3 9.45l-7.72 7.72c-.78.78-.78 2.05 0 2.83L4 21.41c.39.39.9.59 1.41.59.51 0 1.02-.2 1.41-.59l7.78-7.78 2.81-2.81c.8-.78.8-2.07 0-2.86zM5.41 20L4 18.59l7.72-7.72 1.47 1.35L5.41 20z\"/>\n",
              "  </svg>\n",
              "      </button>\n",
              "      \n",
              "  <style>\n",
              "    .colab-df-container {\n",
              "      display:flex;\n",
              "      flex-wrap:wrap;\n",
              "      gap: 12px;\n",
              "    }\n",
              "\n",
              "    .colab-df-convert {\n",
              "      background-color: #E8F0FE;\n",
              "      border: none;\n",
              "      border-radius: 50%;\n",
              "      cursor: pointer;\n",
              "      display: none;\n",
              "      fill: #1967D2;\n",
              "      height: 32px;\n",
              "      padding: 0 0 0 0;\n",
              "      width: 32px;\n",
              "    }\n",
              "\n",
              "    .colab-df-convert:hover {\n",
              "      background-color: #E2EBFA;\n",
              "      box-shadow: 0px 1px 2px rgba(60, 64, 67, 0.3), 0px 1px 3px 1px rgba(60, 64, 67, 0.15);\n",
              "      fill: #174EA6;\n",
              "    }\n",
              "\n",
              "    [theme=dark] .colab-df-convert {\n",
              "      background-color: #3B4455;\n",
              "      fill: #D2E3FC;\n",
              "    }\n",
              "\n",
              "    [theme=dark] .colab-df-convert:hover {\n",
              "      background-color: #434B5C;\n",
              "      box-shadow: 0px 1px 3px 1px rgba(0, 0, 0, 0.15);\n",
              "      filter: drop-shadow(0px 1px 2px rgba(0, 0, 0, 0.3));\n",
              "      fill: #FFFFFF;\n",
              "    }\n",
              "  </style>\n",
              "\n",
              "      <script>\n",
              "        const buttonEl =\n",
              "          document.querySelector('#df-f5c7302e-d19e-4507-bba8-fc49842e78f0 button.colab-df-convert');\n",
              "        buttonEl.style.display =\n",
              "          google.colab.kernel.accessAllowed ? 'block' : 'none';\n",
              "\n",
              "        async function convertToInteractive(key) {\n",
              "          const element = document.querySelector('#df-f5c7302e-d19e-4507-bba8-fc49842e78f0');\n",
              "          const dataTable =\n",
              "            await google.colab.kernel.invokeFunction('convertToInteractive',\n",
              "                                                     [key], {});\n",
              "          if (!dataTable) return;\n",
              "\n",
              "          const docLinkHtml = 'Like what you see? Visit the ' +\n",
              "            '<a target=\"_blank\" href=https://colab.research.google.com/notebooks/data_table.ipynb>data table notebook</a>'\n",
              "            + ' to learn more about interactive tables.';\n",
              "          element.innerHTML = '';\n",
              "          dataTable['output_type'] = 'display_data';\n",
              "          await google.colab.output.renderOutput(dataTable, element);\n",
              "          const docLink = document.createElement('div');\n",
              "          docLink.innerHTML = docLinkHtml;\n",
              "          element.appendChild(docLink);\n",
              "        }\n",
              "      </script>\n",
              "    </div>\n",
              "  </div>\n",
              "  "
            ]
          },
          "metadata": {},
          "execution_count": 6
        }
      ]
    },
    {
      "cell_type": "code",
      "source": [
        "df.shape\n"
      ],
      "metadata": {
        "colab": {
          "base_uri": "https://localhost:8080/"
        },
        "id": "tm3f-iMQQF-m",
        "outputId": "d8e3f4b2-a244-4ff0-acf3-0e748da6c079"
      },
      "execution_count": null,
      "outputs": [
        {
          "output_type": "execute_result",
          "data": {
            "text/plain": [
              "(27074, 2)"
            ]
          },
          "metadata": {},
          "execution_count": 7
        }
      ]
    },
    {
      "cell_type": "code",
      "source": [
        "# check if there is any nulls\n",
        "df.isnull().sum()\n"
      ],
      "metadata": {
        "colab": {
          "base_uri": "https://localhost:8080/"
        },
        "id": "VQoBLRXu7SEc",
        "outputId": "d3c0b29e-5b0c-46b7-e07b-55ea3aa8ad62"
      },
      "execution_count": null,
      "outputs": [
        {
          "output_type": "execute_result",
          "data": {
            "text/plain": [
              "label    0\n",
              "Text     1\n",
              "dtype: int64"
            ]
          },
          "metadata": {},
          "execution_count": 8
        }
      ]
    },
    {
      "cell_type": "code",
      "source": [
        "# drop the row that has null for text\n",
        "df.dropna(inplace=True)\n",
        "df.isnull().sum()\n"
      ],
      "metadata": {
        "colab": {
          "base_uri": "https://localhost:8080/"
        },
        "id": "8Ooz1IkG8Qsf",
        "outputId": "7992b4ba-7615-4221-b5b2-b187573f3f69"
      },
      "execution_count": null,
      "outputs": [
        {
          "output_type": "execute_result",
          "data": {
            "text/plain": [
              "label    0\n",
              "Text     0\n",
              "dtype: int64"
            ]
          },
          "metadata": {},
          "execution_count": 9
        }
      ]
    },
    {
      "cell_type": "code",
      "source": [
        "# create a dictionary with indices as key and labels as values\n",
        "unique_label_array = df['label'].unique()\n",
        "label_dict = dict(enumerate(unique_label_array))\n",
        "label_dict\n"
      ],
      "metadata": {
        "colab": {
          "base_uri": "https://localhost:8080/"
        },
        "id": "byhK-0YiUA6v",
        "outputId": "f6960484-bfa8-4d6f-d170-f57153f8d495"
      },
      "execution_count": null,
      "outputs": [
        {
          "output_type": "execute_result",
          "data": {
            "text/plain": [
              "{0: 'Conjunctival Diseases',\n",
              " 1: 'Corneal Diseases',\n",
              " 2: 'Eye Abnormalities',\n",
              " 3: 'Eye Diseases, Hereditary',\n",
              " 4: 'Eye Hemorrhage',\n",
              " 5: 'Eye Infections',\n",
              " 6: 'Eye Injuries',\n",
              " 7: 'Eye Neoplasms',\n",
              " 8: 'Eyelid Diseases',\n",
              " 9: 'Lacrimal Apparatus Diseases',\n",
              " 10: 'Lens Diseases',\n",
              " 11: 'Ocular Hypertension',\n",
              " 12: 'Ocular Motility Disorders',\n",
              " 13: 'Optic Nerve Diseases',\n",
              " 14: 'Orbital Diseases',\n",
              " 15: 'Pupil Disorders',\n",
              " 16: 'Refractive Errors',\n",
              " 17: 'Retinal Diseases',\n",
              " 18: 'Scleral Diseases',\n",
              " 19: 'Uveal Diseases',\n",
              " 20: 'Vision Disorders'}"
            ]
          },
          "metadata": {},
          "execution_count": 10
        }
      ]
    },
    {
      "cell_type": "code",
      "source": [
        "# replace the labels with indices\n",
        "val_to_key = lambda x: [k for k, v in label_dict.items() if v==x][0]\n",
        "df['label'] = df['label'].apply(val_to_key)\n",
        "df.head()\n"
      ],
      "metadata": {
        "colab": {
          "base_uri": "https://localhost:8080/",
          "height": 206
        },
        "id": "kCNVIqmzWhqq",
        "outputId": "df224881-d5ab-4565-ff0b-30144820292c"
      },
      "execution_count": null,
      "outputs": [
        {
          "output_type": "execute_result",
          "data": {
            "text/plain": [
              "   label                                               Text\n",
              "0      0  a white north american girl with clinical feat...\n",
              "1      0  sixteen patients with an unusual and distinct ...\n",
              "2      0  a molluscum contagiosum nodule, situated at th...\n",
              "3      0  a white male infant of 1 year had unilateral m...\n",
              "4      0  a case of primary meningococcal conjunctivitis..."
            ],
            "text/html": [
              "\n",
              "  <div id=\"df-f52425a2-90f5-4007-9494-71b1ba2bcc5a\">\n",
              "    <div class=\"colab-df-container\">\n",
              "      <div>\n",
              "<style scoped>\n",
              "    .dataframe tbody tr th:only-of-type {\n",
              "        vertical-align: middle;\n",
              "    }\n",
              "\n",
              "    .dataframe tbody tr th {\n",
              "        vertical-align: top;\n",
              "    }\n",
              "\n",
              "    .dataframe thead th {\n",
              "        text-align: right;\n",
              "    }\n",
              "</style>\n",
              "<table border=\"1\" class=\"dataframe\">\n",
              "  <thead>\n",
              "    <tr style=\"text-align: right;\">\n",
              "      <th></th>\n",
              "      <th>label</th>\n",
              "      <th>Text</th>\n",
              "    </tr>\n",
              "  </thead>\n",
              "  <tbody>\n",
              "    <tr>\n",
              "      <th>0</th>\n",
              "      <td>0</td>\n",
              "      <td>a white north american girl with clinical feat...</td>\n",
              "    </tr>\n",
              "    <tr>\n",
              "      <th>1</th>\n",
              "      <td>0</td>\n",
              "      <td>sixteen patients with an unusual and distinct ...</td>\n",
              "    </tr>\n",
              "    <tr>\n",
              "      <th>2</th>\n",
              "      <td>0</td>\n",
              "      <td>a molluscum contagiosum nodule, situated at th...</td>\n",
              "    </tr>\n",
              "    <tr>\n",
              "      <th>3</th>\n",
              "      <td>0</td>\n",
              "      <td>a white male infant of 1 year had unilateral m...</td>\n",
              "    </tr>\n",
              "    <tr>\n",
              "      <th>4</th>\n",
              "      <td>0</td>\n",
              "      <td>a case of primary meningococcal conjunctivitis...</td>\n",
              "    </tr>\n",
              "  </tbody>\n",
              "</table>\n",
              "</div>\n",
              "      <button class=\"colab-df-convert\" onclick=\"convertToInteractive('df-f52425a2-90f5-4007-9494-71b1ba2bcc5a')\"\n",
              "              title=\"Convert this dataframe to an interactive table.\"\n",
              "              style=\"display:none;\">\n",
              "        \n",
              "  <svg xmlns=\"http://www.w3.org/2000/svg\" height=\"24px\"viewBox=\"0 0 24 24\"\n",
              "       width=\"24px\">\n",
              "    <path d=\"M0 0h24v24H0V0z\" fill=\"none\"/>\n",
              "    <path d=\"M18.56 5.44l.94 2.06.94-2.06 2.06-.94-2.06-.94-.94-2.06-.94 2.06-2.06.94zm-11 1L8.5 8.5l.94-2.06 2.06-.94-2.06-.94L8.5 2.5l-.94 2.06-2.06.94zm10 10l.94 2.06.94-2.06 2.06-.94-2.06-.94-.94-2.06-.94 2.06-2.06.94z\"/><path d=\"M17.41 7.96l-1.37-1.37c-.4-.4-.92-.59-1.43-.59-.52 0-1.04.2-1.43.59L10.3 9.45l-7.72 7.72c-.78.78-.78 2.05 0 2.83L4 21.41c.39.39.9.59 1.41.59.51 0 1.02-.2 1.41-.59l7.78-7.78 2.81-2.81c.8-.78.8-2.07 0-2.86zM5.41 20L4 18.59l7.72-7.72 1.47 1.35L5.41 20z\"/>\n",
              "  </svg>\n",
              "      </button>\n",
              "      \n",
              "  <style>\n",
              "    .colab-df-container {\n",
              "      display:flex;\n",
              "      flex-wrap:wrap;\n",
              "      gap: 12px;\n",
              "    }\n",
              "\n",
              "    .colab-df-convert {\n",
              "      background-color: #E8F0FE;\n",
              "      border: none;\n",
              "      border-radius: 50%;\n",
              "      cursor: pointer;\n",
              "      display: none;\n",
              "      fill: #1967D2;\n",
              "      height: 32px;\n",
              "      padding: 0 0 0 0;\n",
              "      width: 32px;\n",
              "    }\n",
              "\n",
              "    .colab-df-convert:hover {\n",
              "      background-color: #E2EBFA;\n",
              "      box-shadow: 0px 1px 2px rgba(60, 64, 67, 0.3), 0px 1px 3px 1px rgba(60, 64, 67, 0.15);\n",
              "      fill: #174EA6;\n",
              "    }\n",
              "\n",
              "    [theme=dark] .colab-df-convert {\n",
              "      background-color: #3B4455;\n",
              "      fill: #D2E3FC;\n",
              "    }\n",
              "\n",
              "    [theme=dark] .colab-df-convert:hover {\n",
              "      background-color: #434B5C;\n",
              "      box-shadow: 0px 1px 3px 1px rgba(0, 0, 0, 0.15);\n",
              "      filter: drop-shadow(0px 1px 2px rgba(0, 0, 0, 0.3));\n",
              "      fill: #FFFFFF;\n",
              "    }\n",
              "  </style>\n",
              "\n",
              "      <script>\n",
              "        const buttonEl =\n",
              "          document.querySelector('#df-f52425a2-90f5-4007-9494-71b1ba2bcc5a button.colab-df-convert');\n",
              "        buttonEl.style.display =\n",
              "          google.colab.kernel.accessAllowed ? 'block' : 'none';\n",
              "\n",
              "        async function convertToInteractive(key) {\n",
              "          const element = document.querySelector('#df-f52425a2-90f5-4007-9494-71b1ba2bcc5a');\n",
              "          const dataTable =\n",
              "            await google.colab.kernel.invokeFunction('convertToInteractive',\n",
              "                                                     [key], {});\n",
              "          if (!dataTable) return;\n",
              "\n",
              "          const docLinkHtml = 'Like what you see? Visit the ' +\n",
              "            '<a target=\"_blank\" href=https://colab.research.google.com/notebooks/data_table.ipynb>data table notebook</a>'\n",
              "            + ' to learn more about interactive tables.';\n",
              "          element.innerHTML = '';\n",
              "          dataTable['output_type'] = 'display_data';\n",
              "          await google.colab.output.renderOutput(dataTable, element);\n",
              "          const docLink = document.createElement('div');\n",
              "          docLink.innerHTML = docLinkHtml;\n",
              "          element.appendChild(docLink);\n",
              "        }\n",
              "      </script>\n",
              "    </div>\n",
              "  </div>\n",
              "  "
            ]
          },
          "metadata": {},
          "execution_count": 11
        }
      ]
    },
    {
      "cell_type": "code",
      "source": [
        "# plot the frequencies of labels\n",
        "df['label'].value_counts().plot(kind='bar')\n"
      ],
      "metadata": {
        "colab": {
          "base_uri": "https://localhost:8080/",
          "height": 286
        },
        "id": "64V4ElHXBV0d",
        "outputId": "6c319fad-710f-4fea-a688-d7aba8ac0f87"
      },
      "execution_count": null,
      "outputs": [
        {
          "output_type": "execute_result",
          "data": {
            "text/plain": [
              "<matplotlib.axes._subplots.AxesSubplot at 0x7fca5e44d040>"
            ]
          },
          "metadata": {},
          "execution_count": 12
        },
        {
          "output_type": "display_data",
          "data": {
            "text/plain": [
              "<Figure size 432x288 with 1 Axes>"
            ],
            "image/png": "[encoded data removed]"
          },
          "metadata": {
            "needs_background": "light"
          }
        }
      ]
    },
    {
      "cell_type": "code",
      "source": [
        "def parse_text(sentence):\n",
        "    '''\n",
        "    clean the abstract by using nltk regex tokenizer to keep only words\n",
        "    input: string\n",
        "    output: a list of cleaned tokens\n",
        "    '''\n",
        "    # convert the sentense to lower case\n",
        "    sentence = sentence.lower()\n",
        "    # use the nltk regex tokenizer\n",
        "    # \\w+ --> include only lower-case letters\n",
        "    tokenizer = nltk.tokenize.RegexpTokenizer(r\"[a-z]+\")\n",
        "    # set sentence to lower case and then pass to the tokenizer\n",
        "    tokens = tokenizer.tokenize(sentence)\n",
        "    # remove stop words\n",
        "    stop_words = stopwords.words('english')\n",
        "    tokens_without_stopwords = [w for w in tokens if w not in stop_words]\n",
        "    # pad <SOS> at the start and <EOS> at the end\n",
        "    tokens.insert(0, '<sos>')\n",
        "    tokens.append('<eos>')\n",
        "    return tokens\n"
      ],
      "metadata": {
        "id": "w3dAivnLq8B6"
      },
      "execution_count": null,
      "outputs": []
    },
    {
      "cell_type": "code",
      "source": [
        "# apply parse_text() on text and create a new column for the output\n",
        "df['tokens'] = df['Text'].apply(parse_text)\n",
        "# create a new column for the length of each token\n",
        "df['token_len'] = df['tokens'].str.len()\n",
        "# sort in descending order and plot to observe the length\n",
        "df = df.sort_values(by='token_len', ascending=False).reset_index(drop=True)\n",
        "df.plot(y='token_len')\n"
      ],
      "metadata": {
        "colab": {
          "base_uri": "https://localhost:8080/",
          "height": 283
        },
        "id": "L0JOe4yf2tcb",
        "outputId": "6bd9b329-1853-4e47-c050-99879409c2ec"
      },
      "execution_count": null,
      "outputs": [
        {
          "output_type": "execute_result",
          "data": {
            "text/plain": [
              "<matplotlib.axes._subplots.AxesSubplot at 0x7fca5e38c2b0>"
            ]
          },
          "metadata": {},
          "execution_count": 14
        },
        {
          "output_type": "display_data",
          "data": {
            "text/plain": [
              "<Figure size 432x288 with 1 Axes>"
            ],
            "image/png": "[encoded data removed]"
          },
          "metadata": {
            "needs_background": "light"
          }
        }
      ]
    },
    {
      "cell_type": "code",
      "source": [
        "# descriptive statistics and density plot for token len\n",
        "# data is right skewed\n",
        "print(df['token_len'].describe(), '\\n')\n",
        "df['token_len'].plot(kind='density')\n"
      ],
      "metadata": {
        "colab": {
          "base_uri": "https://localhost:8080/",
          "height": 466
        },
        "id": "DChxUr9RFXZu",
        "outputId": "98848ae3-dfcd-4ff4-d37c-65e0d997fd79"
      },
      "execution_count": null,
      "outputs": [
        {
          "output_type": "stream",
          "name": "stdout",
          "text": [
            "count    27073.000000\n",
            "mean       128.037196\n",
            "std         62.305521\n",
            "min         12.000000\n",
            "25%         80.000000\n",
            "50%        116.000000\n",
            "75%        161.000000\n",
            "max        862.000000\n",
            "Name: token_len, dtype: float64 \n",
            "\n"
          ]
        },
        {
          "output_type": "execute_result",
          "data": {
            "text/plain": [
              "<matplotlib.axes._subplots.AxesSubplot at 0x7fca50ef90d0>"
            ]
          },
          "metadata": {},
          "execution_count": 15
        },
        {
          "output_type": "display_data",
          "data": {
            "text/plain": [
              "<Figure size 432x288 with 1 Axes>"
            ],
            "image/png": "[encoded data removed]"
          },
          "metadata": {
            "needs_background": "light"
          }
        }
      ]
    },
    {
      "cell_type": "code",
      "source": [
        "df['token_len'].quantile(.99)\n"
      ],
      "metadata": {
        "colab": {
          "base_uri": "https://localhost:8080/"
        },
        "id": "EB3W34AdJGla",
        "outputId": "55700460-41e2-4a72-f354-7dcbd98e9131"
      },
      "execution_count": null,
      "outputs": [
        {
          "output_type": "execute_result",
          "data": {
            "text/plain": [
              "305.0"
            ]
          },
          "metadata": {},
          "execution_count": 16
        }
      ]
    },
    {
      "cell_type": "code",
      "source": [
        "# number of token lists with length greater than 256\n",
        "max_token_len = 256\n",
        "len(df[df['token_len'] > max_token_len])\n"
      ],
      "metadata": {
        "colab": {
          "base_uri": "https://localhost:8080/"
        },
        "id": "7g42dSi5DHI_",
        "outputId": "199b3586-7310-4353-883a-bba6dc992e02"
      },
      "execution_count": null,
      "outputs": [
        {
          "output_type": "execute_result",
          "data": {
            "text/plain": [
              "956"
            ]
          },
          "metadata": {},
          "execution_count": 17
        }
      ]
    },
    {
      "cell_type": "code",
      "source": [
        "# number of token lists with length less than 32\n",
        "min_token_len = 32\n",
        "len(df[df['token_len'] < min_token_len])\n"
      ],
      "metadata": {
        "colab": {
          "base_uri": "https://localhost:8080/"
        },
        "id": "2-h_6oipEuy_",
        "outputId": "ff439520-ae79-44ee-c9de-fa9ef228423f"
      },
      "execution_count": null,
      "outputs": [
        {
          "output_type": "execute_result",
          "data": {
            "text/plain": [
              "15"
            ]
          },
          "metadata": {},
          "execution_count": 18
        }
      ]
    },
    {
      "cell_type": "code",
      "source": [
        "# keep the rows between min and max length set above\n",
        "df_trimmed = df[(df['token_len'] <= max_token_len)&\n",
        "                (df['token_len'] >= min_token_len)].reset_index(drop=True)\n",
        "df_trimmed.shape\n"
      ],
      "metadata": {
        "colab": {
          "base_uri": "https://localhost:8080/"
        },
        "id": "XGx8r6MBND41",
        "outputId": "da85b810-b78b-4d4f-82e2-8a0f38ef3be9"
      },
      "execution_count": null,
      "outputs": [
        {
          "output_type": "execute_result",
          "data": {
            "text/plain": [
              "(26102, 4)"
            ]
          },
          "metadata": {},
          "execution_count": 19
        }
      ]
    },
    {
      "cell_type": "code",
      "source": [
        "# check if the dropping affects distribution of labels\n",
        "x = np.arange(21)\n",
        "bar1 = df['label'].value_counts().sort_index()\n",
        "bar2 = df_trimmed['label'].value_counts().sort_index()\n",
        "plt.bar(x, bar1, alpha=0.5)\n",
        "plt.bar(x, bar2, alpha=0.5)\n",
        "plt.show()\n"
      ],
      "metadata": {
        "colab": {
          "base_uri": "https://localhost:8080/",
          "height": 265
        },
        "id": "WCTNqrtBOQN0",
        "outputId": "52be2d3b-f02d-4263-d821-b5198d250837"
      },
      "execution_count": null,
      "outputs": [
        {
          "output_type": "display_data",
          "data": {
            "text/plain": [
              "<Figure size 432x288 with 1 Axes>"
            ],
            "image/png": "[encoded data removed]"
          },
          "metadata": {
            "needs_background": "light"
          }
        }
      ]
    },
    {
      "cell_type": "code",
      "source": [
        "# apply padding to pad the length of tokens to 512\n",
        "padding = lambda x: x + ['<pad>' for _ in range(max_token_len - len(x))]\n",
        "df_trimmed['tokens'] = df_trimmed['tokens'].apply(padding)\n",
        "df_trimmed.head()\n"
      ],
      "metadata": {
        "colab": {
          "base_uri": "https://localhost:8080/",
          "height": 206
        },
        "id": "oYof15GJbr_Q",
        "outputId": "9a1ba319-12e2-4a83-df49-270c7d92eb09"
      },
      "execution_count": null,
      "outputs": [
        {
          "output_type": "execute_result",
          "data": {
            "text/plain": [
              "   label                                               Text  \\\n",
              "0     17  intensity-series rod and cone ergs were record...   \n",
              "1      3  background: most transforming growth factor be...   \n",
              "2     17  background: there have been many reports in th...   \n",
              "3      1  purpose: to develop a technique that achieves ...   \n",
              "4     12  the presence of spontaneous nystagmus in darkn...   \n",
              "\n",
              "                                              tokens  token_len  \n",
              "0  [<sos>, intensity, series, rod, and, cone, erg...        256  \n",
              "1  [<sos>, background, most, transforming, growth...        256  \n",
              "2  [<sos>, background, there, have, been, many, r...        256  \n",
              "3  [<sos>, purpose, to, develop, a, technique, th...        256  \n",
              "4  [<sos>, the, presence, of, spontaneous, nystag...        256  "
            ],
            "text/html": [
              "\n",
              "  <div id=\"df-a7fa35d1-8070-4796-bf09-3b724516c796\">\n",
              "    <div class=\"colab-df-container\">\n",
              "      <div>\n",
              "<style scoped>\n",
              "    .dataframe tbody tr th:only-of-type {\n",
              "        vertical-align: middle;\n",
              "    }\n",
              "\n",
              "    .dataframe tbody tr th {\n",
              "        vertical-align: top;\n",
              "    }\n",
              "\n",
              "    .dataframe thead th {\n",
              "        text-align: right;\n",
              "    }\n",
              "</style>\n",
              "<table border=\"1\" class=\"dataframe\">\n",
              "  <thead>\n",
              "    <tr style=\"text-align: right;\">\n",
              "      <th></th>\n",
              "      <th>label</th>\n",
              "      <th>Text</th>\n",
              "      <th>tokens</th>\n",
              "      <th>token_len</th>\n",
              "    </tr>\n",
              "  </thead>\n",
              "  <tbody>\n",
              "    <tr>\n",
              "      <th>0</th>\n",
              "      <td>17</td>\n",
              "      <td>intensity-series rod and cone ergs were record...</td>\n",
              "      <td>[&lt;sos&gt;, intensity, series, rod, and, cone, erg...</td>\n",
              "      <td>256</td>\n",
              "    </tr>\n",
              "    <tr>\n",
              "      <th>1</th>\n",
              "      <td>3</td>\n",
              "      <td>background: most transforming growth factor be...</td>\n",
              "      <td>[&lt;sos&gt;, background, most, transforming, growth...</td>\n",
              "      <td>256</td>\n",
              "    </tr>\n",
              "    <tr>\n",
              "      <th>2</th>\n",
              "      <td>17</td>\n",
              "      <td>background: there have been many reports in th...</td>\n",
              "      <td>[&lt;sos&gt;, background, there, have, been, many, r...</td>\n",
              "      <td>256</td>\n",
              "    </tr>\n",
              "    <tr>\n",
              "      <th>3</th>\n",
              "      <td>1</td>\n",
              "      <td>purpose: to develop a technique that achieves ...</td>\n",
              "      <td>[&lt;sos&gt;, purpose, to, develop, a, technique, th...</td>\n",
              "      <td>256</td>\n",
              "    </tr>\n",
              "    <tr>\n",
              "      <th>4</th>\n",
              "      <td>12</td>\n",
              "      <td>the presence of spontaneous nystagmus in darkn...</td>\n",
              "      <td>[&lt;sos&gt;, the, presence, of, spontaneous, nystag...</td>\n",
              "      <td>256</td>\n",
              "    </tr>\n",
              "  </tbody>\n",
              "</table>\n",
              "</div>\n",
              "      <button class=\"colab-df-convert\" onclick=\"convertToInteractive('df-a7fa35d1-8070-4796-bf09-3b724516c796')\"\n",
              "              title=\"Convert this dataframe to an interactive table.\"\n",
              "              style=\"display:none;\">\n",
              "        \n",
              "  <svg xmlns=\"http://www.w3.org/2000/svg\" height=\"24px\"viewBox=\"0 0 24 24\"\n",
              "       width=\"24px\">\n",
              "    <path d=\"M0 0h24v24H0V0z\" fill=\"none\"/>\n",
              "    <path d=\"M18.56 5.44l.94 2.06.94-2.06 2.06-.94-2.06-.94-.94-2.06-.94 2.06-2.06.94zm-11 1L8.5 8.5l.94-2.06 2.06-.94-2.06-.94L8.5 2.5l-.94 2.06-2.06.94zm10 10l.94 2.06.94-2.06 2.06-.94-2.06-.94-.94-2.06-.94 2.06-2.06.94z\"/><path d=\"M17.41 7.96l-1.37-1.37c-.4-.4-.92-.59-1.43-.59-.52 0-1.04.2-1.43.59L10.3 9.45l-7.72 7.72c-.78.78-.78 2.05 0 2.83L4 21.41c.39.39.9.59 1.41.59.51 0 1.02-.2 1.41-.59l7.78-7.78 2.81-2.81c.8-.78.8-2.07 0-2.86zM5.41 20L4 18.59l7.72-7.72 1.47 1.35L5.41 20z\"/>\n",
              "  </svg>\n",
              "      </button>\n",
              "      \n",
              "  <style>\n",
              "    .colab-df-container {\n",
              "      display:flex;\n",
              "      flex-wrap:wrap;\n",
              "      gap: 12px;\n",
              "    }\n",
              "\n",
              "    .colab-df-convert {\n",
              "      background-color: #E8F0FE;\n",
              "      border: none;\n",
              "      border-radius: 50%;\n",
              "      cursor: pointer;\n",
              "      display: none;\n",
              "      fill: #1967D2;\n",
              "      height: 32px;\n",
              "      padding: 0 0 0 0;\n",
              "      width: 32px;\n",
              "    }\n",
              "\n",
              "    .colab-df-convert:hover {\n",
              "      background-color: #E2EBFA;\n",
              "      box-shadow: 0px 1px 2px rgba(60, 64, 67, 0.3), 0px 1px 3px 1px rgba(60, 64, 67, 0.15);\n",
              "      fill: #174EA6;\n",
              "    }\n",
              "\n",
              "    [theme=dark] .colab-df-convert {\n",
              "      background-color: #3B4455;\n",
              "      fill: #D2E3FC;\n",
              "    }\n",
              "\n",
              "    [theme=dark] .colab-df-convert:hover {\n",
              "      background-color: #434B5C;\n",
              "      box-shadow: 0px 1px 3px 1px rgba(0, 0, 0, 0.15);\n",
              "      filter: drop-shadow(0px 1px 2px rgba(0, 0, 0, 0.3));\n",
              "      fill: #FFFFFF;\n",
              "    }\n",
              "  </style>\n",
              "\n",
              "      <script>\n",
              "        const buttonEl =\n",
              "          document.querySelector('#df-a7fa35d1-8070-4796-bf09-3b724516c796 button.colab-df-convert');\n",
              "        buttonEl.style.display =\n",
              "          google.colab.kernel.accessAllowed ? 'block' : 'none';\n",
              "\n",
              "        async function convertToInteractive(key) {\n",
              "          const element = document.querySelector('#df-a7fa35d1-8070-4796-bf09-3b724516c796');\n",
              "          const dataTable =\n",
              "            await google.colab.kernel.invokeFunction('convertToInteractive',\n",
              "                                                     [key], {});\n",
              "          if (!dataTable) return;\n",
              "\n",
              "          const docLinkHtml = 'Like what you see? Visit the ' +\n",
              "            '<a target=\"_blank\" href=https://colab.research.google.com/notebooks/data_table.ipynb>data table notebook</a>'\n",
              "            + ' to learn more about interactive tables.';\n",
              "          element.innerHTML = '';\n",
              "          dataTable['output_type'] = 'display_data';\n",
              "          await google.colab.output.renderOutput(dataTable, element);\n",
              "          const docLink = document.createElement('div');\n",
              "          docLink.innerHTML = docLinkHtml;\n",
              "          element.appendChild(docLink);\n",
              "        }\n",
              "      </script>\n",
              "    </div>\n",
              "  </div>\n",
              "  "
            ]
          },
          "metadata": {},
          "execution_count": 21
        }
      ]
    },
    {
      "cell_type": "markdown",
      "source": [
        "# 3. K-fold, train/val/test split, vocab class, and dataloader"
      ],
      "metadata": {
        "id": "0ZSvtHZ8990j"
      }
    },
    {
      "cell_type": "code",
      "source": [
        "def k_fold_indices(n_folds, sample_size, test_folds):\n",
        "    '''\n",
        "    implement k-fold for model evaluation\n",
        "    returns a list of indices of df\n",
        "    '''\n",
        "    index_list = [i for i in range(sample_size)]\n",
        "    if sample_size%n_folds != 0:\n",
        "        index_list = index_list[:-(sample_size%n_folds)]\n",
        "    random.shuffle(index_list)\n",
        "    fold_size = sample_size // n_folds\n",
        "    # create n folds in list\n",
        "    folds = []\n",
        "\n",
        "    for i in range(n_folds):\n",
        "        start = fold_size*i\n",
        "        end = fold_size*(i+test_folds)\n",
        "        if end <= len(index_list):\n",
        "            not_train = index_list[start:end]\n",
        "            train = index_list[:start] + index_list[end:]\n",
        "        else:\n",
        "            end -=len(index_list)\n",
        "            not_train = index_list[:end] + index_list[start:]\n",
        "            train = index_list[end:start]\n",
        "        split = fold_size//2 * test_folds\n",
        "        val = not_train[:split]\n",
        "        test = not_train[split:]\n",
        "        folds.append([train, val, test])\n",
        "    print(f'Train sample size: {len(train)}')\n",
        "    print(f'Val/test sample size: {len(val), len(test)}\\n')\n",
        "\n",
        "    return folds\n",
        "\n",
        "\n",
        "def get_k_fold_data(df, indices):\n",
        "    '''\n",
        "    get the data from df based on indices\n",
        "    output: numpy arrays of train, val, test data\n",
        "    '''\n",
        "    train = df.iloc[indices[0]]\n",
        "    val = df.iloc[indices[1]]\n",
        "    test = df.iloc[indices[2]]\n",
        "    return [x.to_numpy() for x in (train, val, test)]\n"
      ],
      "metadata": {
        "id": "kx5f8mRFWIB-"
      },
      "execution_count": null,
      "outputs": []
    },
    {
      "cell_type": "code",
      "source": [
        "# test k_fold\n",
        "k_fold_i = k_fold_indices(5, df_trimmed.shape[0], 1)\n",
        "train, val, test = get_k_fold_data(df_trimmed[['tokens', 'label', 'token_len']], k_fold_i[0])\n",
        "\n",
        "print(train.shape, val.shape, test.shape)\n",
        "print(f'sample text from train set:{train[:, 0][50][:10]}\\n'\n",
        "      f'sample label for the text: {train[:, 1][50]}'\n",
        "      f'sample token length for the text: {train[:, 2][50]}')\n"
      ],
      "metadata": {
        "colab": {
          "base_uri": "https://localhost:8080/"
        },
        "id": "eBzunwYoicXU",
        "outputId": "85a44d4a-5c9b-4c90-bcc3-33509cb3a9ce"
      },
      "execution_count": null,
      "outputs": [
        {
          "output_type": "stream",
          "name": "stdout",
          "text": [
            "Train sample size: 20880\n",
            "Val/test sample size: (2610, 2610)\n",
            "\n",
            "(20880, 3) (2610, 3) (2610, 3)\n",
            "sample text from train set:['<sos>', 'severe', 'macular', 'oedema', 'causing', 'marked', 'loss', 'of', 'vision', 'is']\n",
            "sample label for the text: 17sample token length for the text: 127\n"
          ]
        }
      ]
    },
    {
      "cell_type": "code",
      "source": [
        "# create the vocab class\n",
        "class Vocab:\n",
        "    '''\n",
        "    Collects unique tokens and assign indices to the tokens.\n",
        "    '''\n",
        "    def __init__(self, tokens, reserved_tokens=['<sos>', '<eos>'], min_freq=0):\n",
        "        # get a dictionary of unique tokens and their frequencies\n",
        "        counter = count_unique(tokens)\n",
        "        # sort the dictionary in descending order according to token's frequency\n",
        "        self.token_freqs = sorted(\n",
        "            counter.items(),\n",
        "            key=lambda x: x[1],\n",
        "            reverse=True)\n",
        "        self.unk = 1\n",
        "        # create a list of reserved tokens + unique tokens \n",
        "        uniq_tokens = ['<pad>'] + ['<unk>'] + reserved_tokens\n",
        "        uniq_tokens += [\n",
        "            token for token, freq in self.token_freqs\n",
        "            if freq >= min_freq and token not in uniq_tokens]\n",
        "        # function'index to token' and 'token to index'\n",
        "        self.idx_to_token, self.token_to_idx= [], dict()\n",
        "        for token in uniq_tokens:\n",
        "            self.idx_to_token.append(token)\n",
        "            self.token_to_idx[token] = len(self.idx_to_token) - 1\n",
        "\n",
        "    def __len__(self):\n",
        "        return len(self.idx_to_token)\n",
        "\n",
        "    def __getitem__(self, tokens):\n",
        "        if type(tokens) == str:\n",
        "            return self.token_to_idx.get(tokens, self.unk)\n",
        "        return [self.token_to_idx.get(token, self.unk) for token in tokens]\n",
        "\n",
        "    def to_tokens(self, indices):\n",
        "        if type(indices) == int:\n",
        "            return self.idx_to_token[indices]\n",
        "        return [self.idx_to_token[index] for index in indices]\n",
        "\n",
        "\n",
        "def count_unique(tokens):\n",
        "    '''\n",
        "    Input: tokens (train[:, 0])\n",
        "    Output: a dictionary with words as keys and their frequency as values\n",
        "    '''\n",
        "    unique_word_bag = dict()\n",
        "    for lst in tokens:\n",
        "        for word in lst:\n",
        "            unique_word_bag[word] = unique_word_bag.get(word, 0) + 1\n",
        "    return unique_word_bag\n",
        "\n",
        "\n",
        "# test the vocab class: word to index\n",
        "# vocab = Vocab(train[:, 0],  min_freq=1)\n",
        "# vocab_size = len(vocab)\n",
        "# test_idx = vocab['background', 'retinal', 'rupture', 'and', '<pad>', 'unk']\n",
        "# vocab.to_tokens(test_idx)\n",
        "# padding_index = vocab['<pad>']\n"
      ],
      "metadata": {
        "id": "_Lwxe1YScogE"
      },
      "execution_count": null,
      "outputs": []
    },
    {
      "cell_type": "code",
      "source": [
        "# create a class for data iterator that returns batches of data\n",
        "class Dataiterator:\n",
        "    '''\n",
        "    Iterator that returns one batch of data at a time\n",
        "    '''\n",
        "    # shape of one batch of token: \n",
        "    # shape of one batch of label: (batch_size)\n",
        "    def __init__(self, batch_size, dataset):\n",
        "        self.batch_size = batch_size\n",
        "        self.raw_dataset = dataset\n",
        "        self.n_batches = len(self.raw_dataset) // self.batch_size\n",
        "        self.batch = self.raw_dataset[:self.n_batches * self.batch_size, :]\n",
        "        self.current_batch = 0\n",
        "\n",
        "    def __iter__(self):\n",
        "        '''\n",
        "        Shuffle dataset each time when called as iter(Dataiterator)\n",
        "        '''\n",
        "        self.batch = self.shuffle_data(self.batch)\n",
        "        return self\n",
        "\n",
        "    def __next__(self):\n",
        "        '''\n",
        "        Returns on batch of data.\n",
        "        x shape: (batch_size, token_lenth)\n",
        "        y shape: (batch_size,)\n",
        "        '''\n",
        "        if self.current_batch < self.n_batches:\n",
        "            start = self.current_batch * self.batch_size\n",
        "            end = start + self.batch_size\n",
        "            x = self.to_index(self.batch[start:end, 0])    # tokens to index\n",
        "            y = self.batch[start:end, 1].astype(int)\n",
        "            l = self.batch[start:end, 2].astype(int)\n",
        "            self.current_batch += 1\n",
        "            return torch.from_numpy(x), torch.from_numpy(y), torch.from_numpy(l)\n",
        "        else:\n",
        "            # stop after returned all batches\n",
        "            self.current_batch = 0\n",
        "            raise StopIteration\n",
        "    \n",
        "    def shuffle_data(self, dataset):\n",
        "        return shuffle(dataset, random_state=8)\n",
        "    \n",
        "    def to_index(self, batch):\n",
        "        '''\n",
        "        Turns list of tokens into list of indices using the vocab object\n",
        "        '''\n",
        "        lst = []\n",
        "        for i in batch:\n",
        "            lst.append(vocab[i])\n",
        "        return np.array(lst)\n",
        "\n",
        "# test:\n",
        "# test_iter = Dataiterator(64, train)\n",
        "# token, label, token_len = next(iter(test_iter))\n",
        "# token.size()\n"
      ],
      "metadata": {
        "id": "CbF0BEf6-JzM"
      },
      "execution_count": null,
      "outputs": []
    },
    {
      "cell_type": "markdown",
      "source": [
        "# 4. Embedding matrix based on pretrained embedding model"
      ],
      "metadata": {
        "id": "17t0Q2HFQQ6N"
      }
    },
    {
      "cell_type": "code",
      "source": [
        "# if word from the vocab exists in the glove embedding, use \n",
        "# the vector in embedding; otherwise initialize with uniform\n",
        "# distribution from -1 to 1\n",
        "def get_embed_matrix():\n",
        "    from_w2v = 0\n",
        "    embed_matrix = torch.zeros((vocab_size, embedding_dim)).uniform_(-1, 1)\n",
        "    for idx in range(vocab_size):\n",
        "        word = vocab.to_tokens(idx)\n",
        "        if word in w2v:\n",
        "            embed_matrix[idx] = torch.tensor(w2v[word])\n",
        "            from_w2v += 1\n",
        "    # print(f'Taken {from_w2v} vectors from the w2v pretrained embedding')\n",
        "    return embed_matrix\n"
      ],
      "metadata": {
        "id": "BDwqzUWuVAFf"
      },
      "execution_count": null,
      "outputs": []
    },
    {
      "cell_type": "markdown",
      "source": [
        "# 5. Define model"
      ],
      "metadata": {
        "id": "BLYqPjSQhytb"
      }
    },
    {
      "cell_type": "markdown",
      "source": [
        "The neural network is built with the following structure:<br/><br/>\n",
        "Embedding layer -> GRU -> FC -> Logits<br/><br/>\n",
        "\n",
        "\n"
      ],
      "metadata": {
        "id": "6UJ744Kh2gXD"
      }
    },
    {
      "cell_type": "code",
      "source": [
        "class RNNClassifier(nn.Module):\n",
        "\n",
        "    def __init__(self,\n",
        "                 hidden_size,\n",
        "                 input_size,\n",
        "                 output_size,\n",
        "                 embed_dim,\n",
        "                 embed_matrix,\n",
        "                 dropout=0.2):\n",
        "        super().__init__()\n",
        "        # embedding layer with pretrained weights\n",
        "        self.embedding = nn.Embedding.from_pretrained(\n",
        "            embed_matrix,\n",
        "            freeze=False,\n",
        "            padding_idx=0)\n",
        "        # gru layer with input_size=embed_dim and num_layer=1\n",
        "        self.gru = nn.GRU(\n",
        "            embed_dim,\n",
        "            hidden_size,\n",
        "            num_layers=1,\n",
        "            batch_first=True)\n",
        "        self.dropout = nn.Dropout(dropout)\n",
        "        self.fc = nn.Linear(hidden_size, output_size)\n",
        "        self.init_weights()\n",
        "\n",
        "    def init_weights(self):\n",
        "        nn.init.xavier_uniform_(self.fc.weight)\n",
        "\n",
        "    def forward(self, x, l):\n",
        "        # embedding output shape: batch_size, token_len, embed_dim\n",
        "        x = self.embedding(x)\n",
        "        x = self.dropout(x)\n",
        "        x = pack_padded_sequence(x, l.to('cpu'),\n",
        "                                 batch_first=True,\n",
        "                                 enforce_sorted=False)\n",
        "        _, h = self.gru(x)\n",
        "        # use the last hidden state for classification and output logits\n",
        "        x = self.fc(h[-1])\n",
        "        return x\n"
      ],
      "metadata": {
        "id": "UbYBR8AKl-_g"
      },
      "execution_count": null,
      "outputs": []
    },
    {
      "cell_type": "markdown",
      "source": [
        "# 6. Define training and validation step for one epoch"
      ],
      "metadata": {
        "id": "bZ_QMYh1h7Xu"
      }
    },
    {
      "cell_type": "markdown",
      "source": [
        "Regular training and validating steps for pytorch"
      ],
      "metadata": {
        "id": "eqz0MIfbN3bF"
      }
    },
    {
      "cell_type": "code",
      "source": [
        "# helper function: accuracy\n",
        "def get_accuracy(pred, label):\n",
        "    pred = pred.argmax(axis=1)\n",
        "    correct_pred = pred==label\n",
        "    return correct_pred.sum() / len(correct_pred)\n"
      ],
      "metadata": {
        "id": "0cOYPPAFrStb"
      },
      "execution_count": null,
      "outputs": []
    },
    {
      "cell_type": "code",
      "source": [
        "def train_epoch(net, train_iter, optimizer, criterion):\n",
        "    net.train()\n",
        "    loss = 0.0\n",
        "    accuracy = 0.0\n",
        "    num_batches = train_iter.n_batches\n",
        "\n",
        "    for i, (tokens, labels, token_len) in tqdm(\n",
        "        enumerate(iter(train_iter)),\n",
        "        desc='Training',\n",
        "        total = num_batches,\n",
        "        leave=True,\n",
        "        ncols=80,\n",
        "        disable=True):\n",
        "\n",
        "        tokens, labels, token_len = tokens.to(device), labels.to(device), token_len.to(device)\n",
        "        optimizer.zero_grad()\n",
        "        predictions = net(tokens, token_len)\n",
        "        loss = criterion(predictions, labels)\n",
        "        loss.backward()\n",
        "        optimizer.step()\n",
        "        accuracy += get_accuracy(predictions, labels) / num_batches\n",
        "        loss += loss.item() / num_batches\n",
        "    return loss, accuracy\n",
        "\n",
        "\n",
        "def valid_epoch(net, valid_iter, criterion):\n",
        "    net.eval()\n",
        "    loss = 0.0\n",
        "    accuracy = 0.0\n",
        "    num_batches = valid_iter.n_batches\n",
        "\n",
        "    with torch.no_grad():\n",
        "        for i, (tokens, labels, token_len) in tqdm(\n",
        "            enumerate(iter(valid_iter)),\n",
        "            desc='Validating',\n",
        "            total = num_batches,\n",
        "            leave=True,\n",
        "            ncols=80,\n",
        "            disable=True):\n",
        "            tokens, labels, token_len = tokens.to(device), labels.to(device), token_len.to(device)\n",
        "            predictions = net(tokens, token_len)\n",
        "            loss = criterion(predictions, labels)\n",
        "            accuracy += get_accuracy(predictions, labels) / num_batches\n",
        "            loss += loss.item() / num_batches\n",
        "\n",
        "    return loss, accuracy\n",
        "\n",
        "\n",
        "def test_model():\n",
        "    # load the model with lowest validation loss\n",
        "    net.load_state_dict(torch.load(f'RNNClassifier_{i+1}_best_val_loss.pt'))\n",
        "    # set batch size=1 for test\n",
        "    test_iter = Dataiterator(1, test)\n",
        "    test_loss1, test_acc1 = valid_epoch(net, test_iter, criterion)\n",
        "    print(f'\\nBest val loss model:\\nTest loss: {test_loss1:.3f}   Test accuracy: {test_acc1*100:.3f}%')\n",
        "    # load the model with highest accuracy\n",
        "    net.load_state_dict(torch.load(f'RNNClassifier_{i+1}_best_val_acc.pt'))\n",
        "    test_loss2, test_acc2 = valid_epoch(net, test_iter, criterion)\n",
        "    print(f'\\nBest val acc model:\\nTest loss: {test_loss2:.3f}   Test accuracy: {test_acc2*100:.3f}%')\n",
        "    return test_acc1, test_acc2\n"
      ],
      "metadata": {
        "id": "ve9eQ6Zhhm4S"
      },
      "execution_count": null,
      "outputs": []
    },
    {
      "cell_type": "markdown",
      "source": [
        "# 7. Set hyperparameters"
      ],
      "metadata": {
        "id": "AtJ72bxVOGFK"
      }
    },
    {
      "cell_type": "code",
      "source": [
        "hidden_size = 128   # 128\n",
        "output_size = 21\n",
        "lr = 0.004\n",
        "batch_size = 128\n",
        "n_epochs = 8\n",
        "dropout = 0.4    # 0.4\n"
      ],
      "metadata": {
        "id": "HAvL-0t3LoPU"
      },
      "execution_count": null,
      "outputs": []
    },
    {
      "cell_type": "markdown",
      "source": [
        "# 8. Train the network and implement K-fold validation"
      ],
      "metadata": {
        "id": "oLsiPZPiOQUk"
      }
    },
    {
      "cell_type": "code",
      "source": [
        "n_folds = 5\n",
        "num_test_fold = 1   # half for val and half for test\n",
        "k_fold_i = k_fold_indices(5, df_trimmed.shape[0], 1)\n",
        "best_val_test = []\n",
        "best_acc_test = []\n",
        "\n",
        "for i in range(n_folds):\n",
        "    print(f'Model {i+1}:')\n",
        "    train, val, test = get_k_fold_data(df_trimmed[['tokens', 'label', 'token_len']], k_fold_i[i])\n",
        "    # build vocab class on the train tokens\n",
        "    # replace words that appear less than 1 time with unknown\n",
        "    vocab = Vocab(train[:, 0],  min_freq=1)\n",
        "    vocab_size = len(vocab)\n",
        "    embed_matrix = get_embed_matrix()\n",
        "\n",
        "    net = RNNClassifier(\n",
        "        hidden_size,\n",
        "        vocab_size,\n",
        "        output_size,\n",
        "        embedding_dim,\n",
        "        embed_matrix,\n",
        "        dropout).to(device)\n",
        "    criterion = nn.CrossEntropyLoss()\n",
        "    optimizer = torch.optim.Adam(net.parameters(), lr=lr)\n",
        "    scheduler = torch.optim.lr_scheduler.ExponentialLR(optimizer, 0.9)\n",
        "    train_iter = Dataiterator(batch_size, train)\n",
        "    valid_iter = Dataiterator(batch_size, val)\n",
        "\n",
        "    best_valid_loss = 9.9\n",
        "    best_valid_acc = 0.0\n",
        "\n",
        "    for epoch in range(n_epochs):\n",
        "        \n",
        "        # print(f'Epoch {epoch+1:02}')\n",
        "        train_loss, train_acc = train_epoch(net, train_iter, optimizer, criterion)\n",
        "        valid_loss, valid_acc = valid_epoch(net, valid_iter, criterion)\n",
        "        scheduler.step()\n",
        "\n",
        "        # save the model with lowest valid loss\n",
        "        if valid_loss < best_valid_loss:\n",
        "            best_valid_loss = valid_loss\n",
        "            torch.save(net.state_dict(), f'RNNClassifier_{i+1}_best_val_loss.pt')\n",
        "        \n",
        "        # save the model with highest valid accuracy\n",
        "        # to later experiment on the test dataset\n",
        "        if valid_acc > best_valid_acc:\n",
        "            best_valid_acc = valid_acc\n",
        "            torch.save(net.state_dict(), f'RNNClassifier_{i+1}_best_val_acc.pt')\n",
        "\n",
        "        # print(f'Train loss:      {train_loss:.3f}   Accuracy: {train_acc*100:.3f}%')\n",
        "        # print(f'Validation loss: {valid_loss:.3f}   Accuracy: {valid_acc*100:.3f}%\\n')\n",
        "        time.sleep(1)\n",
        "\n",
        "    print(f'The lowest validation loss is {best_valid_loss:.3f}')\n",
        "    print(f'The highest validation accuracy is {best_valid_acc*100:.3f}%')\n",
        "    test_acc1, test_acc2 = test_model()\n",
        "    best_val_test.append(test_acc1)\n",
        "    best_acc_test.append(test_acc2)\n",
        "    print('---------------------------------------------------------------\\n\\n')\n",
        "\n",
        "print(f'Best val loss model avg acc: {sum(best_val_test) / len(best_val_test) * 100:.3f}')\n",
        "print(f'Best val acc model avg acc: {sum(best_acc_test) / len(best_acc_test) * 100:.3f}')\n"
      ],
      "metadata": {
        "colab": {
          "base_uri": "https://localhost:8080/"
        },
        "id": "l-Lcs_zppmNT",
        "outputId": "f4224e7f-5b16-4faf-8c25-7594eba3640c"
      },
      "execution_count": null,
      "outputs": [
        {
          "output_type": "stream",
          "name": "stdout",
          "text": [
            "Train sample size: 20880\n",
            "Val/test sample size: (2610, 2610)\n",
            "\n",
            "Model 1:\n",
            "The lowest validation loss is 0.651\n",
            "The highest validation accuracy is 79.141%\n",
            "\n",
            "Best val loss model:\n",
            "Test loss: 0.002   Test accuracy: 79.348%\n",
            "\n",
            "Best val acc model:\n",
            "Test loss: 0.077   Test accuracy: 79.425%\n",
            "---------------------------------------------------------------\n",
            "\n",
            "\n",
            "Model 2:\n",
            "The lowest validation loss is 0.538\n",
            "The highest validation accuracy is 80.273%\n",
            "\n",
            "Best val loss model:\n",
            "Test loss: 0.003   Test accuracy: 79.195%\n",
            "\n",
            "Best val acc model:\n",
            "Test loss: 0.098   Test accuracy: 79.195%\n",
            "---------------------------------------------------------------\n",
            "\n",
            "\n",
            "Model 3:\n",
            "The lowest validation loss is 0.678\n",
            "The highest validation accuracy is 78.633%\n",
            "\n",
            "Best val loss model:\n",
            "Test loss: 0.015   Test accuracy: 78.620%\n",
            "\n",
            "Best val acc model:\n",
            "Test loss: 2.942   Test accuracy: 78.543%\n",
            "---------------------------------------------------------------\n",
            "\n",
            "\n",
            "Model 4:\n",
            "The lowest validation loss is 0.778\n",
            "The highest validation accuracy is 78.203%\n",
            "\n",
            "Best val loss model:\n",
            "Test loss: 0.006   Test accuracy: 81.034%\n",
            "\n",
            "Best val acc model:\n",
            "Test loss: 0.004   Test accuracy: 81.034%\n",
            "---------------------------------------------------------------\n",
            "\n",
            "\n",
            "Model 5:\n",
            "The lowest validation loss is 0.659\n",
            "The highest validation accuracy is 79.883%\n",
            "\n",
            "Best val loss model:\n",
            "Test loss: 0.210   Test accuracy: 78.275%\n",
            "\n",
            "Best val acc model:\n",
            "Test loss: 0.005   Test accuracy: 78.543%\n",
            "---------------------------------------------------------------\n",
            "\n",
            "\n",
            "Best val loss model avg acc: 79.294\n",
            "Best val acc model avg acc: 79.348\n"
          ]
        }
      ]
    },
    {
      "cell_type": "markdown",
      "source": [
        "# 9. Summary\n"
      ],
      "metadata": {
        "id": "CVWrwFcyWwrL"
      }
    },
    {
      "cell_type": "markdown",
      "source": [
        "1. The average test accuracy of the models with the best accuracy on the validation data was 79.35%, while the average test accuracy of the models with the best loss on the validation data was 79.29%. <br/><br/>\n",
        "\n",
        "2. The dataset used for training and validation is imbalanced. There is a significant disparity in the number of samples for different classes. For example, there are approximately 4,000 samples for the 'Retinal Diseases' class, but only less than 250 samples for the 'Pupil Disorders' and 'Eye Hemorrhage' classes. This imbalance could potentially affect the accuracy of the classification model. Increasing the number of samples for these classes may improve the overall performance of the model."
      ],
      "metadata": {
        "id": "3W5HEFxbXxBC"
      }
    },
    {
      "cell_type": "code",
      "source": [
        "!pip freeze > requirements.txt"
      ],
      "metadata": {
        "id": "LU4uaLjpYj17"
      },
      "execution_count": null,
      "outputs": []
    },
    {
      "cell_type": "code",
      "source": [],
      "metadata": {
        "id": "qtJc1jAaU9OT"
      },
      "execution_count": null,
      "outputs": []
    }
  ]
}